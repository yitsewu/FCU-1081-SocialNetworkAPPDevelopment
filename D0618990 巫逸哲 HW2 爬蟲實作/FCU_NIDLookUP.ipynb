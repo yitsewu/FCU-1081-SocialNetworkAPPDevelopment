{
  "nbformat": 4,
  "nbformat_minor": 0,
  "metadata": {
    "colab": {
      "name": "FCU-NIDLookUP 的副本",
      "provenance": [],
      "toc_visible": true
    },
    "kernelspec": {
      "name": "python3",
      "display_name": "Python 3"
    }
  },
  "cells": [
    {
      "cell_type": "markdown",
      "metadata": {
        "id": "lgCC9WPWkZSs",
        "colab_type": "text"
      },
      "source": [
        "# NIDLookUP (USE ilearn2.0)\n",
        "*   程式簡介\n",
        "> 校內目前並未提供任何可以查尋 NID 的方式，本次利用 ilearn 提供之簡易查詢功能（NID 查詢姓名），實作出一個可以暴破計算出欲查詢者 NID 的腳本（反推爆破 使姓名可以返查 NID）\n",
        "\n",
        "*   主要查詢\n",
        "> 目前查詢功能的實作已經可以因應各種模式，並透過不同的參數引入，可查詢更多的 NID 資料\n"
      ]
    },
    {
      "cell_type": "markdown",
      "metadata": {
        "id": "uvnQA0j-ka8N",
        "colab_type": "text"
      },
      "source": [
        "# Import\n"
      ]
    },
    {
      "cell_type": "code",
      "metadata": {
        "id": "EHZW4y14ktUK",
        "colab_type": "code",
        "colab": {}
      },
      "source": [
        "from bs4 import BeautifulSoup\n",
        "import requests, getpass, csv, re"
      ],
      "execution_count": 0,
      "outputs": []
    },
    {
      "cell_type": "markdown",
      "metadata": {
        "id": "Jo-sUY5qkudg",
        "colab_type": "text"
      },
      "source": [
        "# Set Session"
      ]
    },
    {
      "cell_type": "code",
      "metadata": {
        "id": "WGugc3wXk0Z1",
        "colab_type": "code",
        "colab": {}
      },
      "source": [
        "s = requests.Session()"
      ],
      "execution_count": 0,
      "outputs": []
    },
    {
      "cell_type": "markdown",
      "metadata": {
        "id": "MIt4pkCNlC9h",
        "colab_type": "text"
      },
      "source": [
        "# Set login Data"
      ]
    },
    {
      "cell_type": "code",
      "metadata": {
        "id": "CEQnlhy2kGLw",
        "colab_type": "code",
        "colab": {}
      },
      "source": [
        "username = input('請輸入學號:')\n",
        "password = getpass.getpass('請輸入密碼:')"
      ],
      "execution_count": 0,
      "outputs": []
    },
    {
      "cell_type": "markdown",
      "metadata": {
        "id": "Q4CZWQkElMAp",
        "colab_type": "text"
      },
      "source": [
        "# ilearn Tool"
      ]
    },
    {
      "cell_type": "markdown",
      "metadata": {
        "id": "2xlfpaL3KC5-",
        "colab_type": "text"
      },
      "source": [
        "## 功能 00：Login ilearn"
      ]
    },
    {
      "cell_type": "code",
      "metadata": {
        "id": "k6U5zZbYlBk5",
        "colab_type": "code",
        "colab": {}
      },
      "source": [
        "# Set login url\n",
        "loginPage_url = 'https://ilearn2.fcu.edu.tw/login/index.php'\n",
        "\n",
        "# Get the logintoken\n",
        "loginPage = s.get(loginPage_url)\n",
        "bs_loginPage = BeautifulSoup(loginPage.text, 'html.parser')\n",
        "\n",
        "login_data = {\n",
        "    'username': username,\n",
        "    'password': password,\n",
        "    'logintoken' : bs_loginPage.find_all(attrs={\"name\": \"logintoken\"})[0]['value']\n",
        "}\n",
        "\n",
        "# login\n",
        "try:\n",
        "    loginPage = s.post(loginPage_url, data = login_data)\n",
        "    bs_loginPage = BeautifulSoup(loginPage.text, 'html.parser')\n",
        "\n",
        "    # print(loginPage.text)\n",
        "    print('%s 登入成功' %(bs_loginPage.find_all(attrs={\"class\":\"userpicture defaultuserpic\"})[0]['alt'][0:3]))\n",
        "\n",
        "except:\n",
        "    print('登入失敗')"
      ],
      "execution_count": 0,
      "outputs": []
    },
    {
      "cell_type": "markdown",
      "metadata": {
        "id": "ldPC5eqppWPg",
        "colab_type": "text"
      },
      "source": [
        "## 功能 01：查詢所有授課老師\n",
        "*   ilearn ID\n",
        "*   課程名稱\n",
        "*   老師名稱\n",
        "\n",
        "\n",
        "\n"
      ]
    },
    {
      "cell_type": "code",
      "metadata": {
        "id": "1Hw7mjTAlnrs",
        "colab_type": "code",
        "colab": {}
      },
      "source": [
        "# define course\n",
        "class course():\n",
        "    def __init__(self, name, ID):\n",
        "        self.name = name\n",
        "        self.ID = ID\n",
        "        self.teacher = []\n",
        "    def add_teachet(self, teacher):\n",
        "        self.teacher.append(teacher)\n",
        "\n",
        "# All_course_list\n",
        "All_course = []\n",
        "\n",
        "# Set url\n",
        "url = 'https://ilearn2.fcu.edu.tw/'\n",
        "page = s.get(url)\n",
        "bs_page = BeautifulSoup(page.text, 'html.parser')\n",
        "\n",
        "# 查詢課表\n",
        "course_list = bs_loginPage.find_all(attrs={\"class\":\"coc-mycurricular coursebox clearfix\"})\n",
        "\n",
        "# print(len(course_list))\n",
        "\n",
        "for i in range(len(course_list)):\n",
        "    try:\n",
        "        course_name = course_list[i].find_all('a')[0]['title']\n",
        "        \n",
        "        course_id = course_list[i].find_all('a')[0]['href'][46:51]\n",
        "\n",
        "        temp = course(course_name, course_id)\n",
        "\n",
        "        try:\n",
        "            course_teacher = course_list[i].find_all('span')\n",
        "            for j in range(len(course_teacher)):\n",
        "                if j == 0:\n",
        "                    course_teacher_name = course_teacher[j].text[4:]\n",
        "                    temp.add_teachet(course_teacher_name)\n",
        "                else:\n",
        "                    course_teacher_name = course_teacher[j].text[1:]\n",
        "                    temp.add_teachet(course_teacher_name)\n",
        "        except:\n",
        "            print()\n",
        "\n",
        "        All_course.append(temp)\n",
        "\n",
        "    except:\n",
        "        print('Error')"
      ],
      "execution_count": 0,
      "outputs": []
    },
    {
      "cell_type": "code",
      "metadata": {
        "id": "hDmAeWR69vsZ",
        "colab_type": "code",
        "colab": {}
      },
      "source": [
        "for i in All_course:\n",
        "    print('ID：' + i.ID)\n",
        "    print('URL：'+ 'https://ilearn2.fcu.edu.tw/user/index.php?id=' + i.ID)\n",
        "    print('課程名稱：' + i.name)\n",
        "    print('老師：' + str(i.teacher))\n",
        "    print()"
      ],
      "execution_count": 0,
      "outputs": []
    },
    {
      "cell_type": "markdown",
      "metadata": {
        "id": "7PJmhYbdhFPX",
        "colab_type": "text"
      },
      "source": [
        "## 功能02：查詢 NID"
      ]
    },
    {
      "cell_type": "code",
      "metadata": {
        "id": "ZpeNfGRVhc7m",
        "colab_type": "code",
        "colab": {}
      },
      "source": [
        "def SearchNID(Course_ID, status, name):\n",
        "    # Set NID & StudentMode\n",
        "    NID = status\n",
        "    StudentMode = True\n",
        "\n",
        "    # Set URL\n",
        "    url = ('https://ilearn2.fcu.edu.tw/user/index.php?id=' + str(Course_ID))\n",
        "    page = s.get(url)\n",
        "    bs_page = BeautifulSoup(page.text, 'html.parser')\n",
        "\n",
        "    # Get contextid\n",
        "    contextid = bs_page.find_all('body')[0]['class'][11][8:]\n",
        "\n",
        "    # Get perpage（課程參加人數）\n",
        "    perpage = bs_page.find_all(attrs={\"class\": \"userlist\"})[0].find('p').text[5:]\n",
        "\n",
        "    # Fix URL\n",
        "    url = ('https://ilearn2.fcu.edu.tw/user/index.php?contextid='+ contextid +'&id=' + Course_ID + '&perpage=' + perpage)\n",
        "\n",
        "    # Check StudentMode\n",
        "    page = s.get(url)\n",
        "    bs_page = BeautifulSoup(page.text, 'html.parser')\n",
        "\n",
        "    try:\n",
        "        if bs_page.find_all(attrs={\"value\": \"加入用戶到此課程\"})[0]['value'] == '加入用戶到此課程':\n",
        "            StudentMode = False\n",
        "            MemberList = bs_page.find_all('tbody')[0]\n",
        "        for i in range(int(perpage)):\n",
        "            Member_name = MemberList.find_all(attrs={\"id\":\"user-index-participants-\" + Course_ID + \"_r\"+ str(i) +\"_c1\"})[0].find('img')['alt'][0:3]\n",
        "            Member_NID = MemberList.find_all(attrs={\"id\":\"user-index-participants-\" + Course_ID + \"_r\" + str(i) + \"_c2\"})[0].text\n",
        "            Member_status = MemberList.find_all(attrs={\"id\":\"user-index-participants-\" + Course_ID + \"_r\" + str(i) + \"_c3\"})[0].text[14:-15]\n",
        "            \n",
        "            if Member_status == '助理教師':\n",
        "                Member_status = '助教'\n",
        "            \n",
        "            if Member_name == name:\n",
        "                return Member_NID\n",
        "        \n",
        "            if name == 'ALL':\n",
        "                print ('%3s %-8s %s' %(Member_name, Member_NID, Member_status))\n",
        "    except:\n",
        "        if name == 'ALL' and StudentMode == True:\n",
        "            return '權限不足'\n",
        "\n",
        "    # 檢查是否有此人\n",
        "    data = {\n",
        "        'unified-filters[]': name,\n",
        "        'unified-filter-submitted': '1'\n",
        "    }\n",
        "\n",
        "    page = s.post(url, data = data)\n",
        "    bs_page = BeautifulSoup(page.text, 'html.parser')\n",
        "\n",
        "    try:\n",
        "        check = bs_page.find_all(attrs={\"id\": \"user-index-participants-\" + Course_ID + \"_r0_c0\"})[0].find('img')['alt'][0:3]\n",
        "        perpage = bs_page.find_all(attrs={\"class\": \"userlist\"})[0].find('p').text[5:]\n",
        "        (name == check and perpage == '1') == True\n",
        "    except:\n",
        "        return ('查無此人：')\n",
        "\n",
        "    searchMode = 0\n",
        "\n",
        "    # \b\b搜尋模式：老師\n",
        "    if status == 'T':\n",
        "        searchMode = 6\n",
        "    elif status == 'D':\n",
        "        searchMode = 8\n",
        "    \n",
        "    while len(NID) != searchMode:\n",
        "        for i in range(0, 10):\n",
        "            # print(NID)\n",
        "            data = {\n",
        "                'unified-filters[]': NID + str(i),\n",
        "                'unified-filter-submitted': '1'\n",
        "            }\n",
        "\n",
        "            page = s.post(url, data = data)\n",
        "            bs_page = BeautifulSoup(page.text, 'html.parser')\n",
        "            \n",
        "            \n",
        "            perpage = bs_page.find_all(attrs={\"class\": \"userlist\"})[0].find('p').text[5:]\n",
        "\n",
        "            try:\n",
        "                MemberList = bs_page.find_all('tbody')[0]\n",
        "                \n",
        "                Still_in_list = False\n",
        "\n",
        "                for j in range(int(perpage)):\n",
        "                    Member_name = MemberList.find_all(attrs={\"id\":\"user-index-participants-\" + Course_ID + \"_r\" + str(j) +\"_c0\"})[0].find('img')['alt'][0:3]\n",
        "                    Member_status = MemberList.find_all(attrs={\"id\":\"user-index-participants-\"+ Course_ID + \"_r\" + str(j) + \"_c1\"})[0].text\n",
        "                    if name == Member_name:\n",
        "                        Still_in_list = True\n",
        "                        break\n",
        "\n",
        "                if Still_in_list == True:\n",
        "                    NID += str(i)\n",
        "                else:\n",
        "                    continue\n",
        "            except:\n",
        "                continue\n",
        "    return NID"
      ],
      "execution_count": 0,
      "outputs": []
    },
    {
      "cell_type": "markdown",
      "metadata": {
        "id": "Cp1IjkFxmsij",
        "colab_type": "text"
      },
      "source": [
        "## 功能03：顯示所有老師證號 與 輸出 CSV"
      ]
    },
    {
      "cell_type": "code",
      "metadata": {
        "id": "35HM1zMPpWW6",
        "colab_type": "code",
        "colab": {}
      },
      "source": [
        "with open('outputCSV-NID.csv', 'w', newline='') as csvfile:\n",
        "    writer = csv.writer(csvfile)\n",
        "    writer.writerow(['ID', '課程', '老師姓名 證號'])\n",
        "\n",
        "    for i in All_course:\n",
        "        print('ID：' + i.ID)\n",
        "        print('課程：' + i.name)\n",
        "        print('老師：', end='')\n",
        "\n",
        "        if i.teacher == None:\n",
        "            print('\\n')\n",
        "        \n",
        "        tempstr = ''\n",
        "\n",
        "        for j in i.teacher:\n",
        "            tempNID = SearchNID(i.ID, 'T', j)\n",
        "            \n",
        "            print(j, tempNID ,end=' ')\n",
        "\n",
        "            tempstr = tempstr + j + ' ' + tempNID + ' '\n",
        "        \n",
        "        writer.writerow([i.ID, i.name, tempstr])\n",
        "\n",
        "        print('\\n')"
      ],
      "execution_count": 0,
      "outputs": []
    },
    {
      "cell_type": "markdown",
      "metadata": {
        "id": "CubykmXpqFrC",
        "colab_type": "text"
      },
      "source": [
        "## 功能04：輸出 CVS 檔案"
      ]
    },
    {
      "cell_type": "code",
      "metadata": {
        "colab_type": "code",
        "id": "WHjjHlz5i9vq",
        "colab": {}
      },
      "source": [
        "with open('output.csv', 'w', newline='') as csvfile:\n",
        "    # 建立 CSV 檔寫入器\n",
        "    writer = csv.writer(csvfile)\n",
        "\n",
        "    writer.writerow(['ID', '課程', '老師姓名 證號'])\n",
        "    \n",
        "    for i in All_course:\n",
        "        \n",
        "\n",
        "        for j in i.teacher:\n",
        "            tempstr = tempstr + str(SearchNID(i.ID, 'T', j))\n",
        "            print(j, SearchNID(i.ID, 'T', j) ,end=' ')\n",
        "\n",
        "\n",
        "        writer.write\n",
        "        print('ID：' + i.ID)\n",
        "        print('課程：' + i.name)\n",
        "        print('老師：', end='')\n",
        "        \n",
        "        \n",
        "        print('\\n')\n",
        "\n"
      ],
      "execution_count": 0,
      "outputs": []
    }
  ]
}