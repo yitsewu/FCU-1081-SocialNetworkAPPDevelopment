{
  "nbformat": 4,
  "nbformat_minor": 0,
  "metadata": {
    "colab": {
      "name": "FCU-NIDLookUP",
      "provenance": [],
      "toc_visible": true
    },
    "kernelspec": {
      "name": "python3",
      "display_name": "Python 3"
    }
  },
  "cells": [
    {
      "cell_type": "markdown",
      "metadata": {
        "colab_type": "text",
        "id": "lgCC9WPWkZSs"
      },
      "source": [
        "# NIDLookUP (USE ilearn2.0)\n",
        "*   程式簡介\n",
        "> 校內目前並未提供任何可以查尋 NID 的方式，本次利用 ilearn 提供之簡易查詢功能（NID 查詢姓名），實作出一個可以暴破計算出欲查詢者 NID 的腳本（反推爆破 使姓名可以返查 NID）\n",
        "\n",
        "*   主要查詢\n",
        "> 目前查詢功能的實作已經可以因應各種模式，並透過不同的參數引入，可查詢更多的 NID 資料"
      ]
    },
    {
      "cell_type": "markdown",
      "metadata": {
        "colab_type": "text",
        "id": "uvnQA0j-ka8N"
      },
      "source": [
        "# Import\n"
      ]
    },
    {
      "cell_type": "code",
      "execution_count": 0,
      "metadata": {
        "colab": {},
        "colab_type": "code",
        "id": "EHZW4y14ktUK"
      },
      "outputs": [],
      "source": [
        "from bs4 import BeautifulSoup\n",
        "import requests, getpass, csv, re"
      ]
    },
    {
      "cell_type": "markdown",
      "metadata": {
        "colab_type": "text",
        "id": "Jo-sUY5qkudg"
      },
      "source": [
        "# Set Session"
      ]
    },
    {
      "cell_type": "code",
      "execution_count": 0,
      "metadata": {
        "colab": {},
        "colab_type": "code",
        "id": "WGugc3wXk0Z1"
      },
      "outputs": [],
      "source": [
        "s = requests.Session()"
      ]
    },
    {
      "cell_type": "markdown",
      "metadata": {
        "colab_type": "text",
        "id": "MIt4pkCNlC9h"
      },
      "source": [
        "# Set login Data"
      ]
    },
    {
      "cell_type": "code",
      "execution_count": 0,
      "metadata": {
        "colab": {},
        "colab_type": "code",
        "id": "CEQnlhy2kGLw"
      },
      "outputs": [],
      "source": [
        "username = 'D0618990'\n",
        "password = 'yitsewuAB569854'\n",
        "\n",
        "# username = input('請輸入學號:')\n",
        "# password = getpass.getpass('請輸入密碼:')"
      ]
    },
    {
      "cell_type": "markdown",
      "metadata": {
        "colab_type": "text",
        "id": "Q4CZWQkElMAp"
      },
      "source": [
        "# ilearn Tool"
      ]
    },
    {
      "cell_type": "markdown",
      "metadata": {
        "colab_type": "text",
        "id": "2xlfpaL3KC5-"
      },
      "source": [
        "## 功能 00：Login ilearn"
      ]
    },
    {
      "cell_type": "code",
      "execution_count": 6,
      "metadata": {
        "colab": {
          "base_uri": "https://localhost:8080/",
          "height": 34
        },
        "colab_type": "code",
        "id": "k6U5zZbYlBk5",
        "outputId": "2c68bb5c-8a32-421b-defd-521dc37dbfad"
      },
      "outputs": [
        {
          "name": "stdout",
          "output_type": "stream",
          "text": [
            "巫逸哲 登入成功\n"
          ]
        }
      ],
      "source": [
        "# Set login url\n",
        "loginPage_url = 'https://ilearn2.fcu.edu.tw/login/index.php'\n",
        "\n",
        "# Get the logintoken\n",
        "loginPage = s.get(loginPage_url)\n",
        "bs_loginPage = BeautifulSoup(loginPage.text, 'html.parser')\n",
        "\n",
        "login_data = {\n",
        "    'username': username,\n",
        "    'password': password,\n",
        "    'logintoken' : bs_loginPage.find_all(attrs={\"name\": \"logintoken\"})[0]['value']\n",
        "}\n",
        "\n",
        "# login\n",
        "try:\n",
        "    loginPage = s.post(loginPage_url, data = login_data)\n",
        "    bs_loginPage = BeautifulSoup(loginPage.text, 'html.parser')\n",
        "\n",
        "    # print(loginPage.text)\n",
        "    print('%s 登入成功' %(bs_loginPage.find_all(attrs={\"class\":\"userpicture defaultuserpic\"})[0]['alt'][0:3]))\n",
        "\n",
        "except:\n",
        "    print('登入失敗')"
      ]
    },
    {
      "cell_type": "markdown",
      "metadata": {
        "colab_type": "text",
        "id": "ldPC5eqppWPg"
      },
      "source": [
        "## 功能 01：查詢所有授課老師\n",
        "*   ilearn ID\n",
        "*   課程名稱\n",
        "*   老師名稱\n",
        "\n",
        "\n",
        "\n"
      ]
    },
    {
      "cell_type": "code",
      "execution_count": 0,
      "metadata": {
        "colab": {},
        "colab_type": "code",
        "id": "1Hw7mjTAlnrs"
      },
      "outputs": [],
      "source": [
        "# define course\n",
        "class course():\n",
        "    def __init__(self, name, ID):\n",
        "        self.name = name\n",
        "        self.ID = ID\n",
        "        self.teacher = []\n",
        "    def add_teachet(self, teacher):\n",
        "        self.teacher.append(teacher)\n",
        "\n",
        "# All_course_list\n",
        "All_course = []\n",
        "\n",
        "# Set url\n",
        "url = 'https://ilearn2.fcu.edu.tw/'\n",
        "page = s.get(url)\n",
        "bs_page = BeautifulSoup(page.text, 'html.parser')\n",
        "\n",
        "# 查詢課表\n",
        "course_list = bs_loginPage.find_all(attrs={\"class\":\"coc-mycurricular coursebox clearfix\"})\n",
        "\n",
        "# print(len(course_list))\n",
        "\n",
        "for i in range(len(course_list)):\n",
        "    try:\n",
        "        course_name = course_list[i].find_all('a')[0]['title']\n",
        "        \n",
        "        course_id = course_list[i].find_all('a')[0]['href'][46:51]\n",
        "\n",
        "        temp = course(course_name, course_id)\n",
        "\n",
        "        try:\n",
        "            course_teacher = course_list[i].find_all('span')\n",
        "            for j in range(len(course_teacher)):\n",
        "                if j == 0:\n",
        "                    course_teacher_name = course_teacher[j].text[4:]\n",
        "                    temp.add_teachet(course_teacher_name)\n",
        "                else:\n",
        "                    course_teacher_name = course_teacher[j].text[1:]\n",
        "                    temp.add_teachet(course_teacher_name)\n",
        "        except:\n",
        "            print()\n",
        "\n",
        "        All_course.append(temp)\n",
        "\n",
        "    except:\n",
        "        print('Error')"
      ]
    },
    {
      "cell_type": "code",
      "execution_count": 10,
      "metadata": {
        "colab": {
          "base_uri": "https://localhost:8080/",
          "height": 1000
        },
        "colab_type": "code",
        "id": "hDmAeWR69vsZ",
        "outputId": "8539671b-f23e-4485-fd34-4f9c83dc11b9"
      },
      "outputs": [
        {
          "name": "stdout",
          "output_type": "stream",
          "text": [
            "ID：70650\n",
            "URL：https://ilearn2.fcu.edu.tw/user/index.php?id=70650\n",
            "課程名稱：1081 程式設計(I)(資訊一乙)[1525]\n",
            "老師：['劉明機']\n",
            "\n",
            "ID：70651\n",
            "URL：https://ilearn2.fcu.edu.tw/user/index.php?id=70651\n",
            "課程名稱：1081 程式設計(II)(資訊一乙)[1526]\n",
            "老師：['劉明機']\n",
            "\n",
            "ID：70653\n",
            "URL：https://ilearn2.fcu.edu.tw/user/index.php?id=70653\n",
            "課程名稱：1081 離散數學(資訊二丁)[1566]\n",
            "老師：['游景盛']\n",
            "\n",
            "ID：71240\n",
            "URL：https://ilearn2.fcu.edu.tw/user/index.php?id=71240\n",
            "課程名稱：1081 THIRD-YEAR ENGLISH(資訊三乙)[1575]\n",
            "老師：['林芷瑩']\n",
            "\n",
            "ID：70630\n",
            "URL：https://ilearn2.fcu.edu.tw/user/index.php?id=70630\n",
            "課程名稱：1081 作業系統(一)(資訊三乙)[1576]\n",
            "老師：['林志敏']\n",
            "\n",
            "ID：70613\n",
            "URL：https://ilearn2.fcu.edu.tw/user/index.php?id=70613\n",
            "課程名稱：1081 資料庫系統(電腦學程資訊三)[2304]\n",
            "老師：['林明言']\n",
            "\n",
            "ID：70611\n",
            "URL：https://ilearn2.fcu.edu.tw/user/index.php?id=70611\n",
            "課程名稱：1081 社群網路APP開發與應用(軟工學程資訊三)[2308]\n",
            "老師：['劉明機']\n",
            "\n",
            "ID：70602\n",
            "URL：https://ilearn2.fcu.edu.tw/user/index.php?id=70602\n",
            "課程名稱：1081 程式語言(軟工學程資訊三)[2306]\n",
            "老師：['林峰正']\n",
            "\n",
            "ID：70663\n",
            "URL：https://ilearn2.fcu.edu.tw/user/index.php?id=70663\n",
            "課程名稱：1081 物件導向軟體工程(資訊跨域學程資訊三)[2349]\n",
            "老師：['江庭輝']\n",
            "\n",
            "ID：68843\n",
            "URL：https://ilearn2.fcu.edu.tw/user/index.php?id=68843\n",
            "課程名稱：1081 物聯網概論(物聯網學程)[3236]\n",
            "老師：['陳家豪']\n",
            "\n",
            "ID：69323\n",
            "URL：https://ilearn2.fcu.edu.tw/user/index.php?id=69323\n",
            "課程名稱：1081 服務學習(綜合班)[3586]\n",
            "老師：[]\n",
            "\n",
            "ID：68423\n",
            "URL：https://ilearn2.fcu.edu.tw/user/index.php?id=68423\n",
            "課程名稱：1074-微積分(二)(暑修班)\n",
            "老師：['陳長城']\n",
            "\n",
            "ID：68189\n",
            "URL：https://ilearn2.fcu.edu.tw/user/index.php?id=68189\n",
            "課程名稱：1072 翻轉逢甲 —逢甲資源平台建置(通統合(M))[(日)01-02][4613]\n",
            "老師：['魏國瑞', '魏國瑞']\n",
            "\n",
            "ID：68191\n",
            "URL：https://ilearn2.fcu.edu.tw/user/index.php?id=68191\n",
            "課程名稱：逢甲大學\\資電學院\\資訊系學生資訊站\n",
            "老師：['陳雅真', '薛念林', '黃鎮南', '吳邦華', '粘巧鈴']\n",
            "\n",
            "ID：68143\n",
            "URL：https://ilearn2.fcu.edu.tw/user/index.php?id=68143\n",
            "課程名稱：1072跑跑無人車─AI於無人車之創新應用[00028]\n",
            "老師：['林昱成', '李靜儀', '吳沛儒', '陳楷婷', '謝佩君']\n",
            "\n",
            "ID：22006\n",
            "URL：https://ilearn2.fcu.edu.tw/user/index.php?id=22006\n",
            "課程名稱：E課程總表\n",
            "老師：['周雪惠', '鄭雪娥']\n",
            "\n"
          ]
        }
      ],
      "source": [
        "for i in All_course:\n",
        "    print('ID：' + i.ID)\n",
        "    print('URL：'+ 'https://ilearn2.fcu.edu.tw/user/index.php?id=' + i.ID)\n",
        "    print('課程名稱：' + i.name)\n",
        "    print('老師：' + str(i.teacher))\n",
        "    print()"
      ]
    },
    {
      "cell_type": "markdown",
      "metadata": {
        "colab_type": "text",
        "id": "7PJmhYbdhFPX"
      },
      "source": [
        "## 功能02：查詢 NID"
      ]
    },
    {
      "cell_type": "code",
      "execution_count": 0,
      "metadata": {
        "colab": {},
        "colab_type": "code",
        "id": "ZpeNfGRVhc7m"
      },
      "outputs": [],
      "source": [
        "def SearchNID(Course_ID, status, name):\n",
        "    # Set NID & StudentMode\n",
        "    NID = status\n",
        "    StudentMode = True\n",
        "\n",
        "    # Set URL\n",
        "    url = ('https://ilearn2.fcu.edu.tw/user/index.php?id=' + str(Course_ID))\n",
        "    page = s.get(url)\n",
        "    bs_page = BeautifulSoup(page.text, 'html.parser')\n",
        "\n",
        "    # Get contextid\n",
        "    contextid = bs_page.find_all('body')[0]['class'][11][8:]\n",
        "\n",
        "    # Get perpage（課程參加人數）\n",
        "    perpage = bs_page.find_all(attrs={\"class\": \"userlist\"})[0].find('p').text[5:]\n",
        "\n",
        "    # Fix URL\n",
        "    url = ('https://ilearn2.fcu.edu.tw/user/index.php?contextid='+ contextid +'&id=' + Course_ID + '&perpage=' + perpage)\n",
        "\n",
        "    # Check StudentMode\n",
        "    page = s.get(url)\n",
        "    bs_page = BeautifulSoup(page.text, 'html.parser')\n",
        "\n",
        "    try:\n",
        "        if bs_page.find_all(attrs={\"value\": \"加入用戶到此課程\"})[0]['value'] == '加入用戶到此課程':\n",
        "            StudentMode = False\n",
        "            MemberList = bs_page.find_all('tbody')[0]\n",
        "        for i in range(int(perpage)):\n",
        "            Member_name = MemberList.find_all(attrs={\"id\":\"user-index-participants-\" + Course_ID + \"_r\"+ str(i) +\"_c1\"})[0].find('img')['alt'][0:3]\n",
        "            Member_NID = MemberList.find_all(attrs={\"id\":\"user-index-participants-\" + Course_ID + \"_r\" + str(i) + \"_c2\"})[0].text\n",
        "            Member_status = MemberList.find_all(attrs={\"id\":\"user-index-participants-\" + Course_ID + \"_r\" + str(i) + \"_c3\"})[0].text[14:-15]\n",
        "            \n",
        "            if Member_status == '助理教師':\n",
        "                Member_status = '助教'\n",
        "            \n",
        "            if Member_name == name:\n",
        "                return Member_NID\n",
        "        \n",
        "            if name == 'ALL':\n",
        "                print ('%3s %-8s %s' %(Member_name, Member_NID, Member_status))\n",
        "    except:\n",
        "        if name == 'ALL' and StudentMode == True:\n",
        "            return '權限不足'\n",
        "\n",
        "    # 檢查是否有此人\n",
        "    data = {\n",
        "        'unified-filters[]': name,\n",
        "        'unified-filter-submitted': '1'\n",
        "    }\n",
        "\n",
        "    page = s.post(url, data = data)\n",
        "    bs_page = BeautifulSoup(page.text, 'html.parser')\n",
        "\n",
        "    try:\n",
        "        check = bs_page.find_all(attrs={\"id\": \"user-index-participants-\" + Course_ID + \"_r0_c0\"})[0].find('img')['alt'][0:3]\n",
        "        perpage = bs_page.find_all(attrs={\"class\": \"userlist\"})[0].find('p').text[5:]\n",
        "        (name == check and perpage == '1') == True\n",
        "    except:\n",
        "        return ('查無此人：')\n",
        "\n",
        "    searchMode = 0\n",
        "\n",
        "    # \b\b搜尋模式：老師\n",
        "    if status == 'T':\n",
        "        searchMode = 6\n",
        "    elif status == 'D':\n",
        "        searchMode = 8\n",
        "    \n",
        "    while len(NID) != searchMode:\n",
        "        for i in range(0, 10):\n",
        "            # print(NID)\n",
        "            data = {\n",
        "                'unified-filters[]': NID + str(i),\n",
        "                'unified-filter-submitted': '1'\n",
        "            }\n",
        "\n",
        "            page = s.post(url, data = data)\n",
        "            bs_page = BeautifulSoup(page.text, 'html.parser')\n",
        "            \n",
        "            \n",
        "            perpage = bs_page.find_all(attrs={\"class\": \"userlist\"})[0].find('p').text[5:]\n",
        "\n",
        "            try:\n",
        "                MemberList = bs_page.find_all('tbody')[0]\n",
        "                \n",
        "                Still_in_list = False\n",
        "\n",
        "                for j in range(int(perpage)):\n",
        "                    Member_name = MemberList.find_all(attrs={\"id\":\"user-index-participants-\" + Course_ID + \"_r\" + str(j) +\"_c0\"})[0].find('img')['alt'][0:3]\n",
        "                    Member_status = MemberList.find_all(attrs={\"id\":\"user-index-participants-\"+ Course_ID + \"_r\" + str(j) + \"_c1\"})[0].text\n",
        "                    if name == Member_name:\n",
        "                        Still_in_list = True\n",
        "                        break\n",
        "\n",
        "                if Still_in_list == True:\n",
        "                    NID += str(i)\n",
        "                else:\n",
        "                    continue\n",
        "            except:\n",
        "                continue\n",
        "    return NID"
      ]
    },
    {
      "cell_type": "markdown",
      "metadata": {
        "colab_type": "text",
        "id": "Cp1IjkFxmsij"
      },
      "source": [
        "## 功能03：顯示所有老師證號 與 輸出 CSV"
      ]
    },
    {
      "cell_type": "code",
      "execution_count": 16,
      "metadata": {
        "colab": {
          "base_uri": "https://localhost:8080/",
          "height": 1000
        },
        "colab_type": "code",
        "id": "35HM1zMPpWW6",
        "outputId": "743c54b4-fe6b-4ae7-9b95-d3fb1b4a672a"
      },
      "outputs": [
        {
          "name": "stdout",
          "output_type": "stream",
          "text": [
            "ID：70650\n",
            "課程：1081 程式設計(I)(資訊一乙)[1525]\n",
            "老師：劉明機 T06052 \n",
            "\n",
            "ID：70651\n",
            "課程：1081 程式設計(II)(資訊一乙)[1526]\n",
            "老師：劉明機 T06052 \n",
            "\n",
            "ID：70653\n",
            "課程：1081 離散數學(資訊二丁)[1566]\n",
            "老師：游景盛 T96210 \n",
            "\n",
            "ID：71240\n",
            "課程：1081 THIRD-YEAR ENGLISH(資訊三乙)[1575]\n",
            "老師：林芷瑩 T01119 \n",
            "\n",
            "ID：70630\n",
            "課程：1081 作業系統(一)(資訊三乙)[1576]\n",
            "老師：林志敏 T81218 \n",
            "\n",
            "ID：70613\n",
            "課程：1081 資料庫系統(電腦學程資訊三)[2304]\n",
            "老師：林明言 T91158 \n",
            "\n",
            "ID：70611\n",
            "課程：1081 社群網路APP開發與應用(軟工學程資訊三)[2308]\n",
            "老師：劉明機 T06052 \n",
            "\n",
            "ID：70602\n",
            "課程：1081 程式語言(軟工學程資訊三)[2306]\n",
            "老師：林峰正 T00287 \n",
            "\n",
            "ID：70663\n",
            "課程：1081 物件導向軟體工程(資訊跨域學程資訊三)[2349]\n",
            "老師：江庭輝 T08030 \n",
            "\n",
            "ID：68843\n",
            "課程：1081 物聯網概論(物聯網學程)[3236]\n",
            "老師：陳家豪 T04063 \n",
            "\n",
            "ID：69323\n",
            "課程：1081 服務學習(綜合班)[3586]\n",
            "老師：\n",
            "\n",
            "ID：68423\n",
            "課程：1074-微積分(二)(暑修班)\n",
            "老師：陳長城 T75060 \n",
            "\n",
            "ID：68189\n",
            "課程：1072 翻轉逢甲 —逢甲資源平台建置(通統合(M))[(日)01-02][4613]\n",
            "老師：魏國瑞 T06024 魏國瑞 T06024 \n",
            "\n",
            "ID：68191\n",
            "課程：逢甲大學\\資電學院\\資訊系學生資訊站\n",
            "老師：陳雅真 T82142 薛念林 T91125 黃鎮南 T92195 吳邦華 T95118 粘巧鈴 T96252 \n",
            "\n",
            "ID：68143\n",
            "課程：1072跑跑無人車─AI於無人車之創新應用[00028]\n",
            "老師：林昱成 T02182 李靜儀 T02214 吳沛儒 T03063 陳楷婷 T06285 謝佩君 T94167 \n",
            "\n",
            "ID：22006\n",
            "課程：E課程總表\n",
            "老師：周雪惠 T94145 鄭雪娥 T94111 \n",
            "\n"
          ]
        }
      ],
      "source": [
        "with open('outputCSV-NID.csv', 'w', newline='') as csvfile:\n",
        "    writer = csv.writer(csvfile)\n",
        "    writer.writerow(['ID', '課程', '老師姓名 證號'])\n",
        "\n",
        "    for i in All_course:\n",
        "        print('ID：' + i.ID)\n",
        "        print('課程：' + i.name)\n",
        "        print('老師：', end='')\n",
        "\n",
        "        if i.teacher == None:\n",
        "            print('\\n')\n",
        "        \n",
        "        tempstr = ''\n",
        "\n",
        "        for j in i.teacher:\n",
        "            tempNID = SearchNID(i.ID, 'T', j)\n",
        "            \n",
        "            print(j, tempNID ,end=' ')\n",
        "\n",
        "            tempstr = tempstr + j + ' ' + tempNID + ' '\n",
        "        \n",
        "        writer.writerow([i.ID, i.name, tempstr])\n",
        "\n",
        "        print('\\n')"
      ]
    },
    {
      "cell_type": "markdown",
      "metadata": {
        "colab_type": "text",
        "id": "CubykmXpqFrC"
      },
      "source": [
        "## 功能04：輸出 CVS 檔案"
      ]
    },
    {
      "cell_type": "code",
      "execution_count": 0,
      "metadata": {
        "colab": {},
        "colab_type": "code",
        "id": "W-3HSXcEqFLw"
      },
      "outputs": [],
      "source": [
        "with open('output.csv', 'w', newline='') as csvfile:\n",
        "    # 建立 CSV 檔寫入器\n",
        "    writer = csv.writer(csvfile)\n",
        "\n",
        "    writer.writerow(['ID', '課程', '老師姓名 證號'])\n",
        "    \n",
        "    for i in All_course:\n",
        "        \n",
        "\n",
        "        for j in i.teacher:\n",
        "            tempstr = tempstr + str(SearchNID(i.ID, 'T', j))\n",
        "            print(j, SearchNID(i.ID, 'T', j) ,end=' ')\n",
        "\n",
        "\n",
        "        writer.write\n",
        "        print('ID：' + i.ID)\n",
        "        print('課程：' + i.name)\n",
        "        print('老師：', end='')\n",
        "        \n",
        "        \n",
        "        print('\\n')\n",
        "\n"
      ]
    },
    {
      "cell_type": "markdown",
      "metadata": {
        "colab_type": "text",
        "id": "aJ50CLcsSGz0"
      },
      "source": [
        "# 測試區"
      ]
    },
    {
      "cell_type": "code",
      "execution_count": 0,
      "metadata": {
        "colab": {},
        "colab_type": "code",
        "id": "_NJG0S8RCcJh"
      },
      "outputs": [],
      "source": [
        "id = 70653\n",
        "\n",
        "url = ('https://ilearn2.fcu.edu.tw/user/index.php?id=' + str(id))\n",
        "page = s.get(url)\n",
        "bs_page = BeautifulSoup(page.text, 'html.parser')\n",
        "\n",
        "# contextid\n",
        "contextid = bs_page.find_all('body')[0]['class'][11][8:]\n",
        "\n",
        "# perpage（課程參加人數）\n",
        "perpage = bs_page.find_all(attrs={\"class\": \"userlist\"})[0].find('p').text[5:]\n",
        "\n",
        "\n",
        "# url Fix\n",
        "url = ('https://ilearn2.fcu.edu.tw/user/index.php?contextid='+ contextid +'&id=' + str(id) + '&perpage=' + perpage)"
      ]
    },
    {
      "cell_type": "code",
      "execution_count": 0,
      "metadata": {
        "colab": {},
        "colab_type": "code",
        "id": "s3C0WRAYK1K1"
      },
      "outputs": [],
      "source": [
        "name = '游景盛'\n",
        "\n",
        "data = {\n",
        "    'unified-filters[]': name,\n",
        "    'unified-filter-submitted': '1'\n",
        "}\n",
        "\n",
        "# 檢查是否有此人\n",
        "page = s.post(url, data = data)\n",
        "bs_page = BeautifulSoup(page.text, 'html.parser')\n",
        "check = bs_page.find_all(attrs={\"id\": \"user-index-participants-70653_r0_c0\"})[0].find('img')['alt'][0:3]\n",
        "\n",
        "perpage = bs_page.find_all(attrs={\"class\": \"userlist\"})[0].find('p').text[5:]\n",
        "\n",
        "if name == check and perpage == '1':\n",
        "    print(check + ' 確認')\n",
        "else:\n",
        "    print('查無此人')"
      ]
    },
    {
      "cell_type": "code",
      "execution_count": 0,
      "metadata": {
        "colab": {},
        "colab_type": "code",
        "id": "lZtm5r3Fb-WJ"
      },
      "outputs": [],
      "source": [
        "Teacher_ID = 'T'\n",
        "\n",
        "while True:\n",
        "    if len(Teacher_ID) == 6:\n",
        "        print(name, Teacher_ID)\n",
        "        break\n",
        "    else:\n",
        "        for i in range(0,10):\n",
        "            \n",
        "            data = {\n",
        "                'unified-filters[]': Teacher_ID + str(i),\n",
        "                'unified-filter-submitted': '1'\n",
        "            }\n",
        "\n",
        "            print(Teacher_ID + str(i))\n",
        "\n",
        "            try:\n",
        "                page = s.post(url, data = data)\n",
        "                bs_page = BeautifulSoup(page.text, 'html.parser')\n",
        "                check = bs_page.find_all(attrs={\"id\": \"user-index-participants-70653_r0_c0\"})[0].find('img')['alt'][0:3]\n",
        "\n",
        "                perpage = bs_page.find_all(attrs={\"class\": \"userlist\"})[0].find('p').text[5:]\n",
        "\n",
        "                print('參加人數：'+ perpage, check, i)\n",
        "\n",
        "                if name == check and int(perpage) >= 1:\n",
        "                    Teacher_ID += str(i)\n",
        "                    print(check + ' 確認\\n')\n",
        "                    if len(Teacher_ID) == 6:\n",
        "                        break\n",
        "                else:\n",
        "                    print('查無此人')\n",
        "                    print()\n",
        "            \n",
        "            except:\n",
        "                    print()\n",
        "\n",
        "            print('-----------')\n",
        "            print()"
      ]
    }
  ]
}